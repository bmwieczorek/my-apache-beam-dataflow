{
 "cells": [
  {
   "cell_type": "code",
   "execution_count": 117,
   "metadata": {
    "collapsed": true
   },
   "outputs": [],
   "source": [
    "import apache_beam as beam\n",
    "from apache_beam import CoGroupByKey, FlatMap\n",
    "from apache_beam.runners.interactive.interactive_runner import InteractiveRunner\n",
    "import apache_beam.runners.interactive.interactive_beam as ib"
   ]
  },
  {
   "cell_type": "code",
   "execution_count": 118,
   "outputs": [],
   "source": [
    "pipeline = beam.Pipeline(InteractiveRunner())"
   ],
   "metadata": {
    "collapsed": false
   }
  },
  {
   "cell_type": "code",
   "execution_count": 119,
   "outputs": [
    {
     "data": {
      "text/plain": "<IPython.core.display.HTML object>",
      "text/html": "\n            <link rel=\"stylesheet\" href=\"https://stackpath.bootstrapcdn.com/bootstrap/4.4.1/css/bootstrap.min.css\" integrity=\"sha384-Vkoo8x4CGsO3+Hhxv8T/Q5PaXtkKtu6ug5TOeNV6gBiFeWPGFN9MuhOf23Q9Ifjh\" crossorigin=\"anonymous\">\n            <div id=\"progress_indicator_112bdb87fd57a49964a3b4485d138b52\">\n              <div class=\"spinner-border text-info\" role=\"status\"></div>\n              <span class=\"text-info\">Processing... collect</span>\n            </div>\n            "
     },
     "metadata": {},
     "output_type": "display_data"
    },
    {
     "data": {
      "application/javascript": "\n        if (typeof window.interactive_beam_jquery == 'undefined') {\n          var jqueryScript = document.createElement('script');\n          jqueryScript.src = 'https://code.jquery.com/jquery-3.4.1.slim.min.js';\n          jqueryScript.type = 'text/javascript';\n          jqueryScript.onload = function() {\n            var datatableScript = document.createElement('script');\n            datatableScript.src = 'https://cdn.datatables.net/1.10.20/js/jquery.dataTables.min.js';\n            datatableScript.type = 'text/javascript';\n            datatableScript.onload = function() {\n              window.interactive_beam_jquery = jQuery.noConflict(true);\n              window.interactive_beam_jquery(document).ready(function($){\n                \n            $(\"#progress_indicator_112bdb87fd57a49964a3b4485d138b52\").remove();\n              });\n            }\n            document.head.appendChild(datatableScript);\n          };\n          document.head.appendChild(jqueryScript);\n        } else {\n          window.interactive_beam_jquery(document).ready(function($){\n            \n            $(\"#progress_indicator_112bdb87fd57a49964a3b4485d138b52\").remove();\n          });\n        }"
     },
     "metadata": {},
     "output_type": "display_data"
    },
    {
     "data": {
      "text/plain": "   0             1\n0  a  (aa, aaa, 1)\n1  b  (bb, bbb, 2)\n2  c  (cc, ccc, 3)",
      "text/html": "<div>\n<style scoped>\n    .dataframe tbody tr th:only-of-type {\n        vertical-align: middle;\n    }\n\n    .dataframe tbody tr th {\n        vertical-align: top;\n    }\n\n    .dataframe thead th {\n        text-align: right;\n    }\n</style>\n<table border=\"1\" class=\"dataframe\">\n  <thead>\n    <tr style=\"text-align: right;\">\n      <th></th>\n      <th>0</th>\n      <th>1</th>\n    </tr>\n  </thead>\n  <tbody>\n    <tr>\n      <th>0</th>\n      <td>a</td>\n      <td>(aa, aaa, 1)</td>\n    </tr>\n    <tr>\n      <th>1</th>\n      <td>b</td>\n      <td>(bb, bbb, 2)</td>\n    </tr>\n    <tr>\n      <th>2</th>\n      <td>c</td>\n      <td>(cc, ccc, 3)</td>\n    </tr>\n  </tbody>\n</table>\n</div>"
     },
     "execution_count": 119,
     "metadata": {},
     "output_type": "execute_result"
    }
   ],
   "source": [
    "p_input = pipeline | \"P\" >> beam.Create([\n",
    "    {'k1':'a','k2':'aa','k3':'aaa','v':1},\n",
    "    {'k1':'b','k2':'bb','k3':'bbb','v':2},\n",
    "    {'k1':'c','k2':'cc','k3':'ccc','v':3}\n",
    "]) | beam.Map(lambda d: (d['k1'], (d['k2'], d['k3'], d['v'])))\n",
    "ib.collect(p_input)"
   ],
   "metadata": {
    "collapsed": false
   }
  },
  {
   "cell_type": "code",
   "execution_count": 120,
   "outputs": [
    {
     "data": {
      "text/plain": "<IPython.core.display.HTML object>",
      "text/html": "\n            <link rel=\"stylesheet\" href=\"https://stackpath.bootstrapcdn.com/bootstrap/4.4.1/css/bootstrap.min.css\" integrity=\"sha384-Vkoo8x4CGsO3+Hhxv8T/Q5PaXtkKtu6ug5TOeNV6gBiFeWPGFN9MuhOf23Q9Ifjh\" crossorigin=\"anonymous\">\n            <div id=\"progress_indicator_cedb83033e0e2728a4bbc8b15e57f2b1\">\n              <div class=\"spinner-border text-info\" role=\"status\"></div>\n              <span class=\"text-info\">Processing... collect</span>\n            </div>\n            "
     },
     "metadata": {},
     "output_type": "display_data"
    },
    {
     "data": {
      "application/javascript": "\n        if (typeof window.interactive_beam_jquery == 'undefined') {\n          var jqueryScript = document.createElement('script');\n          jqueryScript.src = 'https://code.jquery.com/jquery-3.4.1.slim.min.js';\n          jqueryScript.type = 'text/javascript';\n          jqueryScript.onload = function() {\n            var datatableScript = document.createElement('script');\n            datatableScript.src = 'https://cdn.datatables.net/1.10.20/js/jquery.dataTables.min.js';\n            datatableScript.type = 'text/javascript';\n            datatableScript.onload = function() {\n              window.interactive_beam_jquery = jQuery.noConflict(true);\n              window.interactive_beam_jquery(document).ready(function($){\n                \n            $(\"#progress_indicator_cedb83033e0e2728a4bbc8b15e57f2b1\").remove();\n              });\n            }\n            document.head.appendChild(datatableScript);\n          };\n          document.head.appendChild(jqueryScript);\n        } else {\n          window.interactive_beam_jquery(document).ready(function($){\n            \n            $(\"#progress_indicator_cedb83033e0e2728a4bbc8b15e57f2b1\").remove();\n          });\n        }"
     },
     "metadata": {},
     "output_type": "display_data"
    },
    {
     "data": {
      "text/plain": "   0              1\n0  b  (bb, bbb, 10)\n1  b    (bb, -, 20)\n2  c    (cc, -, 30)\n3  c    (cc, -, 40)\n4  d  (dd, ddd, 50)",
      "text/html": "<div>\n<style scoped>\n    .dataframe tbody tr th:only-of-type {\n        vertical-align: middle;\n    }\n\n    .dataframe tbody tr th {\n        vertical-align: top;\n    }\n\n    .dataframe thead th {\n        text-align: right;\n    }\n</style>\n<table border=\"1\" class=\"dataframe\">\n  <thead>\n    <tr style=\"text-align: right;\">\n      <th></th>\n      <th>0</th>\n      <th>1</th>\n    </tr>\n  </thead>\n  <tbody>\n    <tr>\n      <th>0</th>\n      <td>b</td>\n      <td>(bb, bbb, 10)</td>\n    </tr>\n    <tr>\n      <th>1</th>\n      <td>b</td>\n      <td>(bb, -, 20)</td>\n    </tr>\n    <tr>\n      <th>2</th>\n      <td>c</td>\n      <td>(cc, -, 30)</td>\n    </tr>\n    <tr>\n      <th>3</th>\n      <td>c</td>\n      <td>(cc, -, 40)</td>\n    </tr>\n    <tr>\n      <th>4</th>\n      <td>d</td>\n      <td>(dd, ddd, 50)</td>\n    </tr>\n  </tbody>\n</table>\n</div>"
     },
     "execution_count": 120,
     "metadata": {},
     "output_type": "execute_result"
    }
   ],
   "source": [
    "# cardinality of S is much higher than P\n",
    "s_input = pipeline | \"S\" >> beam.Create([\n",
    "    {'K1':'b','K2':'bb','K3':'bbb','V':10}, # match k1,k2,k3 to K1, K2, K3 <--\n",
    "    {'K1':'b','K2':'bb','K3':'-','V':20},  # match only k1,k2 to K1, K2\n",
    "    {'K1':'c','K2':'cc','K3':'-','V':30},  # match only k1,k2, older v\n",
    "    {'K1':'c','K2':'cc','K3':'-','V':40},  # match only K1,k2, newer v  <--\n",
    "    {'K1':'d','K2':'dd','K3':'ddd','V':50},  # not match\n",
    "\n",
    "]) | beam.Map(lambda d: (d['K1'], (d['K2'], d['K3'], d['V'])))\n",
    "ib.collect(s_input)"
   ],
   "metadata": {
    "collapsed": false
   }
  },
  {
   "cell_type": "code",
   "execution_count": 121,
   "outputs": [
    {
     "data": {
      "text/plain": "<IPython.core.display.HTML object>",
      "text/html": "\n            <link rel=\"stylesheet\" href=\"https://stackpath.bootstrapcdn.com/bootstrap/4.4.1/css/bootstrap.min.css\" integrity=\"sha384-Vkoo8x4CGsO3+Hhxv8T/Q5PaXtkKtu6ug5TOeNV6gBiFeWPGFN9MuhOf23Q9Ifjh\" crossorigin=\"anonymous\">\n            <div id=\"progress_indicator_4cba3023e3f43da594707fc44cbdc085\">\n              <div class=\"spinner-border text-info\" role=\"status\"></div>\n              <span class=\"text-info\">Processing... show</span>\n            </div>\n            "
     },
     "metadata": {},
     "output_type": "display_data"
    },
    {
     "data": {
      "text/plain": "<IPython.core.display.HTML object>",
      "text/html": "\n            <style>\n            .p-Widget.jp-OutputPrompt.jp-OutputArea-prompt:empty {\n              padding: 0;\n              border: 0;\n            }\n            .p-Widget.jp-RenderedJavaScript.jp-mod-trusted.jp-OutputArea-output:empty {\n              padding: 0;\n              border: 0;\n            }\n            </style>\n            <link rel=\"stylesheet\" href=\"https://cdn.datatables.net/1.10.20/css/jquery.dataTables.min.css\">\n            <table id=\"table_df_cd75f5d3c58532ba9df1763dfff244b0\" class=\"display\" style=\"display:block\"></table>\n            <script>\n              \n        if (typeof window.interactive_beam_jquery == 'undefined') {\n          var jqueryScript = document.createElement('script');\n          jqueryScript.src = 'https://code.jquery.com/jquery-3.4.1.slim.min.js';\n          jqueryScript.type = 'text/javascript';\n          jqueryScript.onload = function() {\n            var datatableScript = document.createElement('script');\n            datatableScript.src = 'https://cdn.datatables.net/1.10.20/js/jquery.dataTables.min.js';\n            datatableScript.type = 'text/javascript';\n            datatableScript.onload = function() {\n              window.interactive_beam_jquery = jQuery.noConflict(true);\n              window.interactive_beam_jquery(document).ready(function($){\n                \n            var dt;\n            if ($.fn.dataTable.isDataTable(\"#table_df_cd75f5d3c58532ba9df1763dfff244b0\")) {\n              dt = $(\"#table_df_cd75f5d3c58532ba9df1763dfff244b0\").dataTable();\n            } else if ($(\"#table_df_cd75f5d3c58532ba9df1763dfff244b0_wrapper\").length == 0) {\n              dt = $(\"#table_df_cd75f5d3c58532ba9df1763dfff244b0\").dataTable({\n                \n            bAutoWidth: false,\n            columns: [{'title': ''}, {'title': 'cogbk.0'}, {'title': 'cogbk.1'}],\n            destroy: true,\n            responsive: true,\n            columnDefs: [\n              {\n                targets: \"_all\",\n                className: \"dt-left\"\n              },\n              {\n                \"targets\": 0,\n                \"width\": \"10px\",\n                \"title\": \"\"\n              }\n            ]\n              });\n            } else {\n              return;\n            }\n            dt.api()\n              .clear()\n              .rows.add([{1: 'a', 2: \"{'p': [('aa', 'aaa', 1)], 's': []}\", 0: 0}, {1: 'b', 2: \"{'p': [('bb', 'bbb', 2)], 's': [('bb', 'bbb', 10), ('bb', '-', 20)]}\", 0: 1}, {1: 'c', 2: \"{'p': [('cc', 'ccc', 3)], 's': [('cc', '-', 30), ('cc', '-', 40)]}\", 0: 2}, {1: 'd', 2: \"{'p': [], 's': [('dd', 'ddd', 50)]}\", 0: 3}])\n              .draw('full-hold');\n              });\n            }\n            document.head.appendChild(datatableScript);\n          };\n          document.head.appendChild(jqueryScript);\n        } else {\n          window.interactive_beam_jquery(document).ready(function($){\n            \n            var dt;\n            if ($.fn.dataTable.isDataTable(\"#table_df_cd75f5d3c58532ba9df1763dfff244b0\")) {\n              dt = $(\"#table_df_cd75f5d3c58532ba9df1763dfff244b0\").dataTable();\n            } else if ($(\"#table_df_cd75f5d3c58532ba9df1763dfff244b0_wrapper\").length == 0) {\n              dt = $(\"#table_df_cd75f5d3c58532ba9df1763dfff244b0\").dataTable({\n                \n            bAutoWidth: false,\n            columns: [{'title': ''}, {'title': 'cogbk.0'}, {'title': 'cogbk.1'}],\n            destroy: true,\n            responsive: true,\n            columnDefs: [\n              {\n                targets: \"_all\",\n                className: \"dt-left\"\n              },\n              {\n                \"targets\": 0,\n                \"width\": \"10px\",\n                \"title\": \"\"\n              }\n            ]\n              });\n            } else {\n              return;\n            }\n            dt.api()\n              .clear()\n              .rows.add([{1: 'a', 2: \"{'p': [('aa', 'aaa', 1)], 's': []}\", 0: 0}, {1: 'b', 2: \"{'p': [('bb', 'bbb', 2)], 's': [('bb', 'bbb', 10), ('bb', '-', 20)]}\", 0: 1}, {1: 'c', 2: \"{'p': [('cc', 'ccc', 3)], 's': [('cc', '-', 30), ('cc', '-', 40)]}\", 0: 2}, {1: 'd', 2: \"{'p': [], 's': [('dd', 'ddd', 50)]}\", 0: 3}])\n              .draw('full-hold');\n          });\n        }\n            </script>"
     },
     "metadata": {},
     "output_type": "display_data"
    },
    {
     "data": {
      "application/javascript": "\n        if (typeof window.interactive_beam_jquery == 'undefined') {\n          var jqueryScript = document.createElement('script');\n          jqueryScript.src = 'https://code.jquery.com/jquery-3.4.1.slim.min.js';\n          jqueryScript.type = 'text/javascript';\n          jqueryScript.onload = function() {\n            var datatableScript = document.createElement('script');\n            datatableScript.src = 'https://cdn.datatables.net/1.10.20/js/jquery.dataTables.min.js';\n            datatableScript.type = 'text/javascript';\n            datatableScript.onload = function() {\n              window.interactive_beam_jquery = jQuery.noConflict(true);\n              window.interactive_beam_jquery(document).ready(function($){\n                \n            $(\"#progress_indicator_4cba3023e3f43da594707fc44cbdc085\").remove();\n              });\n            }\n            document.head.appendChild(datatableScript);\n          };\n          document.head.appendChild(jqueryScript);\n        } else {\n          window.interactive_beam_jquery(document).ready(function($){\n            \n            $(\"#progress_indicator_4cba3023e3f43da594707fc44cbdc085\").remove();\n          });\n        }"
     },
     "metadata": {},
     "output_type": "display_data"
    }
   ],
   "source": [
    "cogbk = {\"p\": p_input, \"s\": s_input} | CoGroupByKey()\n",
    "ib.show(cogbk)"
   ],
   "metadata": {
    "collapsed": false
   }
  },
  {
   "cell_type": "code",
   "execution_count": 122,
   "outputs": [],
   "source": [
    "def match(p, s_list):\n",
    "    matched = []\n",
    "    for s in s_list:\n",
    "        if p[0] == s[0] and p[1] == s[1]:\n",
    "            matched.append(s)\n",
    "\n",
    "    if len(matched) > 0:\n",
    "        return matched, \"exact\"\n",
    "\n",
    "    for s in s_list:\n",
    "        if p[0] == s[0]:\n",
    "            matched.append(s)\n",
    "\n",
    "    if len(matched) > 0:\n",
    "        return max(matched, key=lambda item: item[1]), 'partial'\n"
   ],
   "metadata": {
    "collapsed": false
   }
  },
  {
   "cell_type": "code",
   "execution_count": 123,
   "outputs": [
    {
     "data": {
      "text/plain": "<IPython.core.display.HTML object>",
      "text/html": "\n            <link rel=\"stylesheet\" href=\"https://stackpath.bootstrapcdn.com/bootstrap/4.4.1/css/bootstrap.min.css\" integrity=\"sha384-Vkoo8x4CGsO3+Hhxv8T/Q5PaXtkKtu6ug5TOeNV6gBiFeWPGFN9MuhOf23Q9Ifjh\" crossorigin=\"anonymous\">\n            <div id=\"progress_indicator_2c74773e8013bf5d2ee471fd9c66af41\">\n              <div class=\"spinner-border text-info\" role=\"status\"></div>\n              <span class=\"text-info\">Processing... show</span>\n            </div>\n            "
     },
     "metadata": {},
     "output_type": "display_data"
    },
    {
     "data": {
      "text/plain": "<IPython.core.display.HTML object>",
      "text/html": "\n            <style>\n            .p-Widget.jp-OutputPrompt.jp-OutputArea-prompt:empty {\n              padding: 0;\n              border: 0;\n            }\n            .p-Widget.jp-RenderedJavaScript.jp-mod-trusted.jp-OutputArea-output:empty {\n              padding: 0;\n              border: 0;\n            }\n            </style>\n            <link rel=\"stylesheet\" href=\"https://cdn.datatables.net/1.10.20/css/jquery.dataTables.min.css\">\n            <table id=\"table_df_10125a27cfd5736c8f3e364e6e38204a\" class=\"display\" style=\"display:block\"></table>\n            <script>\n              \n        if (typeof window.interactive_beam_jquery == 'undefined') {\n          var jqueryScript = document.createElement('script');\n          jqueryScript.src = 'https://code.jquery.com/jquery-3.4.1.slim.min.js';\n          jqueryScript.type = 'text/javascript';\n          jqueryScript.onload = function() {\n            var datatableScript = document.createElement('script');\n            datatableScript.src = 'https://cdn.datatables.net/1.10.20/js/jquery.dataTables.min.js';\n            datatableScript.type = 'text/javascript';\n            datatableScript.onload = function() {\n              window.interactive_beam_jquery = jQuery.noConflict(true);\n              window.interactive_beam_jquery(document).ready(function($){\n                \n            var dt;\n            if ($.fn.dataTable.isDataTable(\"#table_df_10125a27cfd5736c8f3e364e6e38204a\")) {\n              dt = $(\"#table_df_10125a27cfd5736c8f3e364e6e38204a\").dataTable();\n            } else if ($(\"#table_df_10125a27cfd5736c8f3e364e6e38204a_wrapper\").length == 0) {\n              dt = $(\"#table_df_10125a27cfd5736c8f3e364e6e38204a\").dataTable({\n                \n            bAutoWidth: false,\n            columns: [{'title': ''}, {'title': 'key'}, {'title': 'p'}, {'title': 's'}],\n            destroy: true,\n            responsive: true,\n            columnDefs: [\n              {\n                targets: \"_all\",\n                className: \"dt-left\"\n              },\n              {\n                \"targets\": 0,\n                \"width\": \"10px\",\n                \"title\": \"\"\n              }\n            ]\n              });\n            } else {\n              return;\n            }\n            dt.api()\n              .clear()\n              .rows.add([{1: 'a', 2: \"('aa', 'aaa', 1)\", 3: 'None', 0: 0}, {1: 'b', 2: \"('bb', 'bbb', 2)\", 3: \"([('bb', 'bbb', 10)], 'exact')\", 0: 1}, {1: 'c', 2: \"('cc', 'ccc', 3)\", 3: \"(('cc', '-', 30), 'partial')\", 0: 2}])\n              .draw('full-hold');\n              });\n            }\n            document.head.appendChild(datatableScript);\n          };\n          document.head.appendChild(jqueryScript);\n        } else {\n          window.interactive_beam_jquery(document).ready(function($){\n            \n            var dt;\n            if ($.fn.dataTable.isDataTable(\"#table_df_10125a27cfd5736c8f3e364e6e38204a\")) {\n              dt = $(\"#table_df_10125a27cfd5736c8f3e364e6e38204a\").dataTable();\n            } else if ($(\"#table_df_10125a27cfd5736c8f3e364e6e38204a_wrapper\").length == 0) {\n              dt = $(\"#table_df_10125a27cfd5736c8f3e364e6e38204a\").dataTable({\n                \n            bAutoWidth: false,\n            columns: [{'title': ''}, {'title': 'key'}, {'title': 'p'}, {'title': 's'}],\n            destroy: true,\n            responsive: true,\n            columnDefs: [\n              {\n                targets: \"_all\",\n                className: \"dt-left\"\n              },\n              {\n                \"targets\": 0,\n                \"width\": \"10px\",\n                \"title\": \"\"\n              }\n            ]\n              });\n            } else {\n              return;\n            }\n            dt.api()\n              .clear()\n              .rows.add([{1: 'a', 2: \"('aa', 'aaa', 1)\", 3: 'None', 0: 0}, {1: 'b', 2: \"('bb', 'bbb', 2)\", 3: \"([('bb', 'bbb', 10)], 'exact')\", 0: 1}, {1: 'c', 2: \"('cc', 'ccc', 3)\", 3: \"(('cc', '-', 30), 'partial')\", 0: 2}])\n              .draw('full-hold');\n          });\n        }\n            </script>"
     },
     "metadata": {},
     "output_type": "display_data"
    },
    {
     "data": {
      "application/javascript": "\n        if (typeof window.interactive_beam_jquery == 'undefined') {\n          var jqueryScript = document.createElement('script');\n          jqueryScript.src = 'https://code.jquery.com/jquery-3.4.1.slim.min.js';\n          jqueryScript.type = 'text/javascript';\n          jqueryScript.onload = function() {\n            var datatableScript = document.createElement('script');\n            datatableScript.src = 'https://cdn.datatables.net/1.10.20/js/jquery.dataTables.min.js';\n            datatableScript.type = 'text/javascript';\n            datatableScript.onload = function() {\n              window.interactive_beam_jquery = jQuery.noConflict(true);\n              window.interactive_beam_jquery(document).ready(function($){\n                \n            $(\"#progress_indicator_2c74773e8013bf5d2ee471fd9c66af41\").remove();\n              });\n            }\n            document.head.appendChild(datatableScript);\n          };\n          document.head.appendChild(jqueryScript);\n        } else {\n          window.interactive_beam_jquery(document).ready(function($){\n            \n            $(\"#progress_indicator_2c74773e8013bf5d2ee471fd9c66af41\").remove();\n          });\n        }"
     },
     "metadata": {},
     "output_type": "display_data"
    }
   ],
   "source": [
    "def inner_join(element):\n",
    "    key = element[0]\n",
    "    _dict = element[1]\n",
    "    p_list = _dict['p']\n",
    "    s_list = _dict['s']\n",
    "    return [{\"key\": key, \"p\": p, \"s\": match(p, s_list)} for p in p_list]\n",
    "\n",
    "\n",
    "flattened = cogbk | FlatMap(inner_join)\n",
    "ib.show(flattened)"
   ],
   "metadata": {
    "collapsed": false
   }
  }
 ],
 "metadata": {
  "kernelspec": {
   "display_name": "Python 3",
   "language": "python",
   "name": "python3"
  },
  "language_info": {
   "codemirror_mode": {
    "name": "ipython",
    "version": 2
   },
   "file_extension": ".py",
   "mimetype": "text/x-python",
   "name": "python",
   "nbconvert_exporter": "python",
   "pygments_lexer": "ipython2",
   "version": "2.7.6"
  }
 },
 "nbformat": 4,
 "nbformat_minor": 0
}
