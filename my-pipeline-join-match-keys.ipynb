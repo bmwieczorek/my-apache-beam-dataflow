{
 "cells": [
  {
   "cell_type": "code",
   "execution_count": 124,
   "metadata": {
    "collapsed": true
   },
   "outputs": [],
   "source": [
    "import apache_beam as beam\n",
    "from apache_beam import CoGroupByKey, FlatMap\n",
    "from apache_beam.runners.interactive.interactive_runner import InteractiveRunner\n",
    "import apache_beam.runners.interactive.interactive_beam as ib"
   ]
  },
  {
   "cell_type": "code",
   "execution_count": 125,
   "outputs": [],
   "source": [
    "pipeline = beam.Pipeline(InteractiveRunner())"
   ],
   "metadata": {
    "collapsed": false
   }
  },
  {
   "cell_type": "code",
   "execution_count": 126,
   "outputs": [
    {
     "data": {
      "text/plain": "<IPython.core.display.HTML object>",
      "text/html": "\n            <link rel=\"stylesheet\" href=\"https://stackpath.bootstrapcdn.com/bootstrap/4.4.1/css/bootstrap.min.css\" integrity=\"sha384-Vkoo8x4CGsO3+Hhxv8T/Q5PaXtkKtu6ug5TOeNV6gBiFeWPGFN9MuhOf23Q9Ifjh\" crossorigin=\"anonymous\">\n            <div id=\"progress_indicator_8728a823f8ec2cacec98ae868fb495e9\">\n              <div class=\"spinner-border text-info\" role=\"status\"></div>\n              <span class=\"text-info\">Processing... collect</span>\n            </div>\n            "
     },
     "metadata": {},
     "output_type": "display_data"
    },
    {
     "data": {
      "application/javascript": "\n        if (typeof window.interactive_beam_jquery == 'undefined') {\n          var jqueryScript = document.createElement('script');\n          jqueryScript.src = 'https://code.jquery.com/jquery-3.4.1.slim.min.js';\n          jqueryScript.type = 'text/javascript';\n          jqueryScript.onload = function() {\n            var datatableScript = document.createElement('script');\n            datatableScript.src = 'https://cdn.datatables.net/1.10.20/js/jquery.dataTables.min.js';\n            datatableScript.type = 'text/javascript';\n            datatableScript.onload = function() {\n              window.interactive_beam_jquery = jQuery.noConflict(true);\n              window.interactive_beam_jquery(document).ready(function($){\n                \n            $(\"#progress_indicator_8728a823f8ec2cacec98ae868fb495e9\").remove();\n              });\n            }\n            document.head.appendChild(datatableScript);\n          };\n          document.head.appendChild(jqueryScript);\n        } else {\n          window.interactive_beam_jquery(document).ready(function($){\n            \n            $(\"#progress_indicator_8728a823f8ec2cacec98ae868fb495e9\").remove();\n          });\n        }"
     },
     "metadata": {},
     "output_type": "display_data"
    },
    {
     "data": {
      "text/plain": "   0             1\n0  a  (aa, aaa, 1)\n1  b  (bb, bbb, 2)\n2  c  (cc, ccc, 3)",
      "text/html": "<div>\n<style scoped>\n    .dataframe tbody tr th:only-of-type {\n        vertical-align: middle;\n    }\n\n    .dataframe tbody tr th {\n        vertical-align: top;\n    }\n\n    .dataframe thead th {\n        text-align: right;\n    }\n</style>\n<table border=\"1\" class=\"dataframe\">\n  <thead>\n    <tr style=\"text-align: right;\">\n      <th></th>\n      <th>0</th>\n      <th>1</th>\n    </tr>\n  </thead>\n  <tbody>\n    <tr>\n      <th>0</th>\n      <td>a</td>\n      <td>(aa, aaa, 1)</td>\n    </tr>\n    <tr>\n      <th>1</th>\n      <td>b</td>\n      <td>(bb, bbb, 2)</td>\n    </tr>\n    <tr>\n      <th>2</th>\n      <td>c</td>\n      <td>(cc, ccc, 3)</td>\n    </tr>\n  </tbody>\n</table>\n</div>"
     },
     "execution_count": 126,
     "metadata": {},
     "output_type": "execute_result"
    }
   ],
   "source": [
    "p_input = pipeline | \"P\" >> beam.Create([\n",
    "    {'k1':'a','k2':'aa','k3':'aaa','v':1},\n",
    "    {'k1':'b','k2':'bb','k3':'bbb','v':2},\n",
    "    {'k1':'c','k2':'cc','k3':'ccc','v':3}\n",
    "]) | beam.Map(lambda d: (d['k1'], (d['k2'], d['k3'], d['v'])))\n",
    "ib.collect(p_input)"
   ],
   "metadata": {
    "collapsed": false
   }
  },
  {
   "cell_type": "code",
   "execution_count": 127,
   "outputs": [
    {
     "data": {
      "text/plain": "<IPython.core.display.HTML object>",
      "text/html": "\n            <link rel=\"stylesheet\" href=\"https://stackpath.bootstrapcdn.com/bootstrap/4.4.1/css/bootstrap.min.css\" integrity=\"sha384-Vkoo8x4CGsO3+Hhxv8T/Q5PaXtkKtu6ug5TOeNV6gBiFeWPGFN9MuhOf23Q9Ifjh\" crossorigin=\"anonymous\">\n            <div id=\"progress_indicator_03d1259476de84b17c4a5afdfcacdbca\">\n              <div class=\"spinner-border text-info\" role=\"status\"></div>\n              <span class=\"text-info\">Processing... collect</span>\n            </div>\n            "
     },
     "metadata": {},
     "output_type": "display_data"
    },
    {
     "data": {
      "application/javascript": "\n        if (typeof window.interactive_beam_jquery == 'undefined') {\n          var jqueryScript = document.createElement('script');\n          jqueryScript.src = 'https://code.jquery.com/jquery-3.4.1.slim.min.js';\n          jqueryScript.type = 'text/javascript';\n          jqueryScript.onload = function() {\n            var datatableScript = document.createElement('script');\n            datatableScript.src = 'https://cdn.datatables.net/1.10.20/js/jquery.dataTables.min.js';\n            datatableScript.type = 'text/javascript';\n            datatableScript.onload = function() {\n              window.interactive_beam_jquery = jQuery.noConflict(true);\n              window.interactive_beam_jquery(document).ready(function($){\n                \n            $(\"#progress_indicator_03d1259476de84b17c4a5afdfcacdbca\").remove();\n              });\n            }\n            document.head.appendChild(datatableScript);\n          };\n          document.head.appendChild(jqueryScript);\n        } else {\n          window.interactive_beam_jquery(document).ready(function($){\n            \n            $(\"#progress_indicator_03d1259476de84b17c4a5afdfcacdbca\").remove();\n          });\n        }"
     },
     "metadata": {},
     "output_type": "display_data"
    },
    {
     "data": {
      "text/plain": "   0              1\n0  b  (bb, bbb, 10)\n1  b    (bb, -, 20)\n2  c    (cc, -, 30)\n3  c    (cc, -, 40)\n4  d  (dd, ddd, 50)",
      "text/html": "<div>\n<style scoped>\n    .dataframe tbody tr th:only-of-type {\n        vertical-align: middle;\n    }\n\n    .dataframe tbody tr th {\n        vertical-align: top;\n    }\n\n    .dataframe thead th {\n        text-align: right;\n    }\n</style>\n<table border=\"1\" class=\"dataframe\">\n  <thead>\n    <tr style=\"text-align: right;\">\n      <th></th>\n      <th>0</th>\n      <th>1</th>\n    </tr>\n  </thead>\n  <tbody>\n    <tr>\n      <th>0</th>\n      <td>b</td>\n      <td>(bb, bbb, 10)</td>\n    </tr>\n    <tr>\n      <th>1</th>\n      <td>b</td>\n      <td>(bb, -, 20)</td>\n    </tr>\n    <tr>\n      <th>2</th>\n      <td>c</td>\n      <td>(cc, -, 30)</td>\n    </tr>\n    <tr>\n      <th>3</th>\n      <td>c</td>\n      <td>(cc, -, 40)</td>\n    </tr>\n    <tr>\n      <th>4</th>\n      <td>d</td>\n      <td>(dd, ddd, 50)</td>\n    </tr>\n  </tbody>\n</table>\n</div>"
     },
     "execution_count": 127,
     "metadata": {},
     "output_type": "execute_result"
    }
   ],
   "source": [
    "# cardinality of S is much higher than P\n",
    "s_input = pipeline | \"S\" >> beam.Create([\n",
    "    {'K1':'b','K2':'bb','K3':'bbb','V':10}, # match k1,k2,k3 to K1, K2, K3 <--\n",
    "    {'K1':'b','K2':'bb','K3':'-','V':20},  # match only k1,k2 to K1, K2\n",
    "    {'K1':'c','K2':'cc','K3':'-','V':30},  # match only k1,k2, older v\n",
    "    {'K1':'c','K2':'cc','K3':'-','V':40},  # match only K1,k2, newer v  <--\n",
    "    {'K1':'d','K2':'dd','K3':'ddd','V':50},  # not match\n",
    "\n",
    "]) | beam.Map(lambda d: (d['K1'], (d['K2'], d['K3'], d['V'])))\n",
    "ib.collect(s_input)"
   ],
   "metadata": {
    "collapsed": false
   }
  },
  {
   "cell_type": "code",
   "execution_count": 128,
   "outputs": [
    {
     "data": {
      "text/plain": "<IPython.core.display.HTML object>",
      "text/html": "\n            <link rel=\"stylesheet\" href=\"https://stackpath.bootstrapcdn.com/bootstrap/4.4.1/css/bootstrap.min.css\" integrity=\"sha384-Vkoo8x4CGsO3+Hhxv8T/Q5PaXtkKtu6ug5TOeNV6gBiFeWPGFN9MuhOf23Q9Ifjh\" crossorigin=\"anonymous\">\n            <div id=\"progress_indicator_a0b442d40d28290221fe383967e71a09\">\n              <div class=\"spinner-border text-info\" role=\"status\"></div>\n              <span class=\"text-info\">Processing... collect</span>\n            </div>\n            "
     },
     "metadata": {},
     "output_type": "display_data"
    },
    {
     "data": {
      "application/javascript": "\n        if (typeof window.interactive_beam_jquery == 'undefined') {\n          var jqueryScript = document.createElement('script');\n          jqueryScript.src = 'https://code.jquery.com/jquery-3.4.1.slim.min.js';\n          jqueryScript.type = 'text/javascript';\n          jqueryScript.onload = function() {\n            var datatableScript = document.createElement('script');\n            datatableScript.src = 'https://cdn.datatables.net/1.10.20/js/jquery.dataTables.min.js';\n            datatableScript.type = 'text/javascript';\n            datatableScript.onload = function() {\n              window.interactive_beam_jquery = jQuery.noConflict(true);\n              window.interactive_beam_jquery(document).ready(function($){\n                \n            $(\"#progress_indicator_a0b442d40d28290221fe383967e71a09\").remove();\n              });\n            }\n            document.head.appendChild(datatableScript);\n          };\n          document.head.appendChild(jqueryScript);\n        } else {\n          window.interactive_beam_jquery(document).ready(function($){\n            \n            $(\"#progress_indicator_a0b442d40d28290221fe383967e71a09\").remove();\n          });\n        }"
     },
     "metadata": {},
     "output_type": "display_data"
    },
    {
     "data": {
      "text/plain": "   0                                                  1\n0  b  {'p': [('bb', 'bbb', 2)], 's': [('bb', 'bbb', ...\n1  c  {'p': [('cc', 'ccc', 3)], 's': [('cc', '-', 30...\n2  d                {'p': [], 's': [('dd', 'ddd', 50)]}\n3  a                 {'p': [('aa', 'aaa', 1)], 's': []}",
      "text/html": "<div>\n<style scoped>\n    .dataframe tbody tr th:only-of-type {\n        vertical-align: middle;\n    }\n\n    .dataframe tbody tr th {\n        vertical-align: top;\n    }\n\n    .dataframe thead th {\n        text-align: right;\n    }\n</style>\n<table border=\"1\" class=\"dataframe\">\n  <thead>\n    <tr style=\"text-align: right;\">\n      <th></th>\n      <th>0</th>\n      <th>1</th>\n    </tr>\n  </thead>\n  <tbody>\n    <tr>\n      <th>0</th>\n      <td>b</td>\n      <td>{'p': [('bb', 'bbb', 2)], 's': [('bb', 'bbb', ...</td>\n    </tr>\n    <tr>\n      <th>1</th>\n      <td>c</td>\n      <td>{'p': [('cc', 'ccc', 3)], 's': [('cc', '-', 30...</td>\n    </tr>\n    <tr>\n      <th>2</th>\n      <td>d</td>\n      <td>{'p': [], 's': [('dd', 'ddd', 50)]}</td>\n    </tr>\n    <tr>\n      <th>3</th>\n      <td>a</td>\n      <td>{'p': [('aa', 'aaa', 1)], 's': []}</td>\n    </tr>\n  </tbody>\n</table>\n</div>"
     },
     "execution_count": 128,
     "metadata": {},
     "output_type": "execute_result"
    }
   ],
   "source": [
    "cogbk = {\"p\": p_input, \"s\": s_input} | CoGroupByKey()\n",
    "ib.collect(cogbk)"
   ],
   "metadata": {
    "collapsed": false
   }
  },
  {
   "cell_type": "code",
   "execution_count": 129,
   "outputs": [],
   "source": [
    "def match(p, s_list):\n",
    "    matched = []\n",
    "    for s in s_list:\n",
    "        if p[0] == s[0] and p[1] == s[1]:\n",
    "            matched.append(s)\n",
    "\n",
    "    if len(matched) > 0:\n",
    "        return matched, \"exact\"\n",
    "\n",
    "    for s in s_list:\n",
    "        if p[0] == s[0]:\n",
    "            matched.append(s)\n",
    "\n",
    "    if len(matched) > 0:\n",
    "        return max(matched, key=lambda item: item[1]), 'partial'\n"
   ],
   "metadata": {
    "collapsed": false
   }
  },
  {
   "cell_type": "code",
   "execution_count": 130,
   "outputs": [
    {
     "data": {
      "text/plain": "<IPython.core.display.HTML object>",
      "text/html": "\n            <link rel=\"stylesheet\" href=\"https://stackpath.bootstrapcdn.com/bootstrap/4.4.1/css/bootstrap.min.css\" integrity=\"sha384-Vkoo8x4CGsO3+Hhxv8T/Q5PaXtkKtu6ug5TOeNV6gBiFeWPGFN9MuhOf23Q9Ifjh\" crossorigin=\"anonymous\">\n            <div id=\"progress_indicator_572444cee1e117e1e3e000fe0119a236\">\n              <div class=\"spinner-border text-info\" role=\"status\"></div>\n              <span class=\"text-info\">Processing... collect</span>\n            </div>\n            "
     },
     "metadata": {},
     "output_type": "display_data"
    },
    {
     "data": {
      "application/javascript": "\n        if (typeof window.interactive_beam_jquery == 'undefined') {\n          var jqueryScript = document.createElement('script');\n          jqueryScript.src = 'https://code.jquery.com/jquery-3.4.1.slim.min.js';\n          jqueryScript.type = 'text/javascript';\n          jqueryScript.onload = function() {\n            var datatableScript = document.createElement('script');\n            datatableScript.src = 'https://cdn.datatables.net/1.10.20/js/jquery.dataTables.min.js';\n            datatableScript.type = 'text/javascript';\n            datatableScript.onload = function() {\n              window.interactive_beam_jquery = jQuery.noConflict(true);\n              window.interactive_beam_jquery(document).ready(function($){\n                \n            $(\"#progress_indicator_572444cee1e117e1e3e000fe0119a236\").remove();\n              });\n            }\n            document.head.appendChild(datatableScript);\n          };\n          document.head.appendChild(jqueryScript);\n        } else {\n          window.interactive_beam_jquery(document).ready(function($){\n            \n            $(\"#progress_indicator_572444cee1e117e1e3e000fe0119a236\").remove();\n          });\n        }"
     },
     "metadata": {},
     "output_type": "display_data"
    },
    {
     "data": {
      "text/plain": "  key             p                         s\n0   b  (bb, bbb, 2)  ([(bb, bbb, 10)], exact)\n1   c  (cc, ccc, 3)    ((cc, -, 30), partial)\n2   a  (aa, aaa, 1)                      None",
      "text/html": "<div>\n<style scoped>\n    .dataframe tbody tr th:only-of-type {\n        vertical-align: middle;\n    }\n\n    .dataframe tbody tr th {\n        vertical-align: top;\n    }\n\n    .dataframe thead th {\n        text-align: right;\n    }\n</style>\n<table border=\"1\" class=\"dataframe\">\n  <thead>\n    <tr style=\"text-align: right;\">\n      <th></th>\n      <th>key</th>\n      <th>p</th>\n      <th>s</th>\n    </tr>\n  </thead>\n  <tbody>\n    <tr>\n      <th>0</th>\n      <td>b</td>\n      <td>(bb, bbb, 2)</td>\n      <td>([(bb, bbb, 10)], exact)</td>\n    </tr>\n    <tr>\n      <th>1</th>\n      <td>c</td>\n      <td>(cc, ccc, 3)</td>\n      <td>((cc, -, 30), partial)</td>\n    </tr>\n    <tr>\n      <th>2</th>\n      <td>a</td>\n      <td>(aa, aaa, 1)</td>\n      <td>None</td>\n    </tr>\n  </tbody>\n</table>\n</div>"
     },
     "execution_count": 130,
     "metadata": {},
     "output_type": "execute_result"
    }
   ],
   "source": [
    "def inner_join(element):\n",
    "    key = element[0]\n",
    "    _dict = element[1]\n",
    "    p_list = _dict['p']\n",
    "    s_list = _dict['s']\n",
    "    return [{\"key\": key, \"p\": p, \"s\": match(p, s_list)} for p in p_list]\n",
    "\n",
    "\n",
    "flattened = cogbk | FlatMap(inner_join)\n",
    "ib.collect(flattened)"
   ],
   "metadata": {
    "collapsed": false
   }
  }
 ],
 "metadata": {
  "kernelspec": {
   "display_name": "Python 3",
   "language": "python",
   "name": "python3"
  },
  "language_info": {
   "codemirror_mode": {
    "name": "ipython",
    "version": 2
   },
   "file_extension": ".py",
   "mimetype": "text/x-python",
   "name": "python",
   "nbconvert_exporter": "python",
   "pygments_lexer": "ipython2",
   "version": "2.7.6"
  }
 },
 "nbformat": 4,
 "nbformat_minor": 0
}
