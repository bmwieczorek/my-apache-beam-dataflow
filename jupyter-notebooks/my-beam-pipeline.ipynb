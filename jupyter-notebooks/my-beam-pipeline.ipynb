{
 "cells": [
  {
   "cell_type": "code",
   "execution_count": 1,
   "metadata": {},
   "outputs": [],
   "source": [
    "import apache_beam as beam\n",
    "from apache_beam.runners.interactive.interactive_runner import InteractiveRunner\n",
    "import apache_beam.runners.interactive.interactive_beam as ib"
   ]
  },
  {
   "cell_type": "code",
   "execution_count": 2,
   "metadata": {},
   "outputs": [],
   "source": [
    "p = beam.Pipeline(InteractiveRunner())"
   ]
  },
  {
   "cell_type": "code",
   "execution_count": 3,
   "metadata": {},
   "outputs": [
    {
     "data": {
      "application/javascript": "\n        if (typeof window.interactive_beam_jquery == 'undefined') {\n          var jqueryScript = document.createElement('script');\n          jqueryScript.src = 'https://code.jquery.com/jquery-3.4.1.slim.min.js';\n          jqueryScript.type = 'text/javascript';\n          jqueryScript.onload = function() {\n            var datatableScript = document.createElement('script');\n            datatableScript.src = 'https://cdn.datatables.net/1.10.20/js/jquery.dataTables.min.js';\n            datatableScript.type = 'text/javascript';\n            datatableScript.onload = function() {\n              window.interactive_beam_jquery = jQuery.noConflict(true);\n              window.interactive_beam_jquery(document).ready(function($){\n                \n              });\n            }\n            document.head.appendChild(datatableScript);\n          };\n          document.head.appendChild(jqueryScript);\n        } else {\n          window.interactive_beam_jquery(document).ready(function($){\n            \n          });\n        }"
     },
     "metadata": {},
     "output_type": "display_data"
    },
    {
     "data": {
      "text/plain": "<IPython.core.display.HTML object>",
      "text/html": "\n            <link rel=\"stylesheet\" href=\"https://stackpath.bootstrapcdn.com/bootstrap/4.4.1/css/bootstrap.min.css\" integrity=\"sha384-Vkoo8x4CGsO3+Hhxv8T/Q5PaXtkKtu6ug5TOeNV6gBiFeWPGFN9MuhOf23Q9Ifjh\" crossorigin=\"anonymous\">\n            <div id=\"progress_indicator_eb5b773b8a21ca2bbf26d0cee24b1761\">\n              <div class=\"spinner-border text-info\" role=\"status\"></div>\n              <span class=\"text-info\">Processing... show</span>\n            </div>\n            "
     },
     "metadata": {},
     "output_type": "display_data"
    },
    {
     "data": {
      "text/plain": "<IPython.core.display.HTML object>",
      "text/html": "\n            <style>\n            .p-Widget.jp-OutputPrompt.jp-OutputArea-prompt:empty {\n              padding: 0;\n              border: 0;\n            }\n            .p-Widget.jp-RenderedJavaScript.jp-mod-trusted.jp-OutputArea-output:empty {\n              padding: 0;\n              border: 0;\n            }\n            </style>\n            <link rel=\"stylesheet\" href=\"https://cdn.datatables.net/1.10.20/css/jquery.dataTables.min.css\">\n            <table id=\"table_df_d6a6698c59371bb8c13fe45490db1684\" class=\"display\" style=\"display:block\"></table>\n            <script>\n              \n        if (typeof window.interactive_beam_jquery == 'undefined') {\n          var jqueryScript = document.createElement('script');\n          jqueryScript.src = 'https://code.jquery.com/jquery-3.4.1.slim.min.js';\n          jqueryScript.type = 'text/javascript';\n          jqueryScript.onload = function() {\n            var datatableScript = document.createElement('script');\n            datatableScript.src = 'https://cdn.datatables.net/1.10.20/js/jquery.dataTables.min.js';\n            datatableScript.type = 'text/javascript';\n            datatableScript.onload = function() {\n              window.interactive_beam_jquery = jQuery.noConflict(true);\n              window.interactive_beam_jquery(document).ready(function($){\n                \n            var dt;\n            if ($.fn.dataTable.isDataTable(\"#table_df_d6a6698c59371bb8c13fe45490db1684\")) {\n              dt = $(\"#table_df_d6a6698c59371bb8c13fe45490db1684\").dataTable();\n            } else if ($(\"#table_df_d6a6698c59371bb8c13fe45490db1684_wrapper\").length == 0) {\n              dt = $(\"#table_df_d6a6698c59371bb8c13fe45490db1684\").dataTable({\n                \n            bAutoWidth: false,\n            columns: [{'title': ''}, {'title': 'words.0'}, {'title': 'event_time'}, {'title': 'windows'}, {'title': 'pane_info'}],\n            destroy: true,\n            responsive: true,\n            columnDefs: [\n              {\n                targets: \"_all\",\n                className: \"dt-left\"\n              },\n              {\n                \"targets\": 0,\n                \"width\": \"10px\",\n                \"title\": \"\"\n              }\n            ]\n              });\n            } else {\n              return;\n            }\n            dt.api()\n              .clear()\n              .rows.add([{1: 'hello', 2: 'Min Timestamp', 3: 'GlobalWindow', 4: 'Pane 0: Final ', 0: 0}, {1: 'jdd', 2: 'Min Timestamp', 3: 'GlobalWindow', 4: 'Pane 0: Final ', 0: 1}, {1: 'conf', 2: 'Min Timestamp', 3: 'GlobalWindow', 4: 'Pane 0: Final ', 0: 2}])\n              .draw('full-hold');\n              });\n            }\n            document.head.appendChild(datatableScript);\n          };\n          document.head.appendChild(jqueryScript);\n        } else {\n          window.interactive_beam_jquery(document).ready(function($){\n            \n            var dt;\n            if ($.fn.dataTable.isDataTable(\"#table_df_d6a6698c59371bb8c13fe45490db1684\")) {\n              dt = $(\"#table_df_d6a6698c59371bb8c13fe45490db1684\").dataTable();\n            } else if ($(\"#table_df_d6a6698c59371bb8c13fe45490db1684_wrapper\").length == 0) {\n              dt = $(\"#table_df_d6a6698c59371bb8c13fe45490db1684\").dataTable({\n                \n            bAutoWidth: false,\n            columns: [{'title': ''}, {'title': 'words.0'}, {'title': 'event_time'}, {'title': 'windows'}, {'title': 'pane_info'}],\n            destroy: true,\n            responsive: true,\n            columnDefs: [\n              {\n                targets: \"_all\",\n                className: \"dt-left\"\n              },\n              {\n                \"targets\": 0,\n                \"width\": \"10px\",\n                \"title\": \"\"\n              }\n            ]\n              });\n            } else {\n              return;\n            }\n            dt.api()\n              .clear()\n              .rows.add([{1: 'hello', 2: 'Min Timestamp', 3: 'GlobalWindow', 4: 'Pane 0: Final ', 0: 0}, {1: 'jdd', 2: 'Min Timestamp', 3: 'GlobalWindow', 4: 'Pane 0: Final ', 0: 1}, {1: 'conf', 2: 'Min Timestamp', 3: 'GlobalWindow', 4: 'Pane 0: Final ', 0: 2}])\n              .draw('full-hold');\n          });\n        }\n            </script>"
     },
     "metadata": {},
     "output_type": "display_data"
    },
    {
     "data": {
      "application/javascript": "\n        if (typeof window.interactive_beam_jquery == 'undefined') {\n          var jqueryScript = document.createElement('script');\n          jqueryScript.src = 'https://code.jquery.com/jquery-3.4.1.slim.min.js';\n          jqueryScript.type = 'text/javascript';\n          jqueryScript.onload = function() {\n            var datatableScript = document.createElement('script');\n            datatableScript.src = 'https://cdn.datatables.net/1.10.20/js/jquery.dataTables.min.js';\n            datatableScript.type = 'text/javascript';\n            datatableScript.onload = function() {\n              window.interactive_beam_jquery = jQuery.noConflict(true);\n              window.interactive_beam_jquery(document).ready(function($){\n                \n            $(\"#progress_indicator_eb5b773b8a21ca2bbf26d0cee24b1761\").remove();\n              });\n            }\n            document.head.appendChild(datatableScript);\n          };\n          document.head.appendChild(jqueryScript);\n        } else {\n          window.interactive_beam_jquery(document).ready(function($){\n            \n            $(\"#progress_indicator_eb5b773b8a21ca2bbf26d0cee24b1761\").remove();\n          });\n        }"
     },
     "metadata": {},
     "output_type": "display_data"
    }
   ],
   "source": [
    "words = p | 'Create' >> beam.Create([\"hello\", \"jdd\", \"conf\"])\n",
    "ib.show(words, include_window_info=True)"
   ]
  },
  {
   "cell_type": "code",
   "execution_count": 4,
   "metadata": {},
   "outputs": [
    {
     "data": {
      "text/plain": "<IPython.core.display.HTML object>",
      "text/html": "\n            <link rel=\"stylesheet\" href=\"https://stackpath.bootstrapcdn.com/bootstrap/4.4.1/css/bootstrap.min.css\" integrity=\"sha384-Vkoo8x4CGsO3+Hhxv8T/Q5PaXtkKtu6ug5TOeNV6gBiFeWPGFN9MuhOf23Q9Ifjh\" crossorigin=\"anonymous\">\n            <div id=\"progress_indicator_ec88836876ee1a4af77e0f9551ce8289\">\n              <div class=\"spinner-border text-info\" role=\"status\"></div>\n              <span class=\"text-info\">Processing... collect</span>\n            </div>\n            "
     },
     "metadata": {},
     "output_type": "display_data"
    },
    {
     "data": {
      "application/javascript": "\n        if (typeof window.interactive_beam_jquery == 'undefined') {\n          var jqueryScript = document.createElement('script');\n          jqueryScript.src = 'https://code.jquery.com/jquery-3.4.1.slim.min.js';\n          jqueryScript.type = 'text/javascript';\n          jqueryScript.onload = function() {\n            var datatableScript = document.createElement('script');\n            datatableScript.src = 'https://cdn.datatables.net/1.10.20/js/jquery.dataTables.min.js';\n            datatableScript.type = 'text/javascript';\n            datatableScript.onload = function() {\n              window.interactive_beam_jquery = jQuery.noConflict(true);\n              window.interactive_beam_jquery(document).ready(function($){\n                \n            $(\"#progress_indicator_ec88836876ee1a4af77e0f9551ce8289\").remove();\n              });\n            }\n            document.head.appendChild(datatableScript);\n          };\n          document.head.appendChild(jqueryScript);\n        } else {\n          window.interactive_beam_jquery(document).ready(function($){\n            \n            $(\"#progress_indicator_ec88836876ee1a4af77e0f9551ce8289\").remove();\n          });\n        }"
     },
     "metadata": {},
     "output_type": "display_data"
    },
    {
     "data": {
      "text/plain": "       0           event_time         windows  \\\n0  hello -9223372036854775000  [GlobalWindow]   \n1    jdd -9223372036854775000  [GlobalWindow]   \n2   conf -9223372036854775000  [GlobalWindow]   \n\n                                           pane_info  \n0  PaneInfo(first: True, last: True, timing: UNKN...  \n1  PaneInfo(first: True, last: True, timing: UNKN...  \n2  PaneInfo(first: True, last: True, timing: UNKN...  ",
      "text/html": "<div>\n<style scoped>\n    .dataframe tbody tr th:only-of-type {\n        vertical-align: middle;\n    }\n\n    .dataframe tbody tr th {\n        vertical-align: top;\n    }\n\n    .dataframe thead th {\n        text-align: right;\n    }\n</style>\n<table border=\"1\" class=\"dataframe\">\n  <thead>\n    <tr style=\"text-align: right;\">\n      <th></th>\n      <th>0</th>\n      <th>event_time</th>\n      <th>windows</th>\n      <th>pane_info</th>\n    </tr>\n  </thead>\n  <tbody>\n    <tr>\n      <th>0</th>\n      <td>hello</td>\n      <td>-9223372036854775000</td>\n      <td>[GlobalWindow]</td>\n      <td>PaneInfo(first: True, last: True, timing: UNKN...</td>\n    </tr>\n    <tr>\n      <th>1</th>\n      <td>jdd</td>\n      <td>-9223372036854775000</td>\n      <td>[GlobalWindow]</td>\n      <td>PaneInfo(first: True, last: True, timing: UNKN...</td>\n    </tr>\n    <tr>\n      <th>2</th>\n      <td>conf</td>\n      <td>-9223372036854775000</td>\n      <td>[GlobalWindow]</td>\n      <td>PaneInfo(first: True, last: True, timing: UNKN...</td>\n    </tr>\n  </tbody>\n</table>\n</div>"
     },
     "execution_count": 4,
     "metadata": {},
     "output_type": "execute_result"
    }
   ],
   "source": [
    "upper = words | 'ToUpper' >> beam.Map(lambda word: word.upper())\n",
    "ib.collect(words, include_window_info=True)"
   ]
  }
 ],
 "metadata": {
  "kernelspec": {
   "display_name": "Python 3 (ipykernel)",
   "language": "python",
   "name": "python3"
  },
  "language_info": {
   "codemirror_mode": {
    "name": "ipython",
    "version": 3
   },
   "file_extension": ".py",
   "mimetype": "text/x-python",
   "name": "python",
   "nbconvert_exporter": "python",
   "pygments_lexer": "ipython3",
   "version": "3.9.14"
  }
 },
 "nbformat": 4,
 "nbformat_minor": 1
}
